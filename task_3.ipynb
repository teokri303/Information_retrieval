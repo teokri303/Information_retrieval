{
 "cells": [
  {
   "cell_type": "code",
   "execution_count": 7,
   "metadata": {},
   "outputs": [
    {
     "name": "stdout",
     "output_type": "stream",
     "text": [
      "13165\n"
     ]
    }
   ],
   "source": [
    "import pandas as pd\n",
    "import numpy as np\n",
    "import seaborn as sns\n",
    "import matplotlib.pyplot as plt\n",
    "from sklearn.cluster import KMeans\n",
    "from sklearn.preprocessing import StandardScaler\n",
    "import plotly.express as exp\n",
    "\n",
    "data = pd.read_csv('Updated-Ratings.csv')\n",
    "\n",
    "zero_ratings = data[data['rating'] == 0]\n",
    "\n"
   ]
  },
  {
   "cell_type": "code",
   "execution_count": 8,
   "metadata": {},
   "outputs": [
    {
     "name": "stdout",
     "output_type": "stream",
     "text": [
      "<bound method NDFrame.head of           uid        isbn  rating\n",
      "0      123629  0002005018       9\n",
      "1      198013  0399135782       7\n",
      "2      212449  0399135782       8\n",
      "3      252921  0399135782       8\n",
      "4       12923  0440234743      10\n",
      "...       ...         ...     ...\n",
      "42703  277831  0786811358       0\n",
      "42704  277834  0847817741       0\n",
      "42705  278714  0896101932       0\n",
      "42706  278789  1413702783       0\n",
      "42707  278849  0920656307       0\n",
      "\n",
      "[42708 rows x 3 columns]>\n",
      "13165\n"
     ]
    }
   ],
   "source": [
    "print(data.head)\n",
    "\n",
    "print(len(zero_ratings))"
   ]
  }
 ],
 "metadata": {
  "kernelspec": {
   "display_name": "Python 3",
   "language": "python",
   "name": "python3"
  },
  "language_info": {
   "codemirror_mode": {
    "name": "ipython",
    "version": 3
   },
   "file_extension": ".py",
   "mimetype": "text/x-python",
   "name": "python",
   "nbconvert_exporter": "python",
   "pygments_lexer": "ipython3",
   "version": "3.9.9"
  },
  "orig_nbformat": 4,
  "vscode": {
   "interpreter": {
    "hash": "aee8b7b246df8f9039afb4144a1f6fd8d2ca17a180786b69acc140d282b71a49"
   }
  }
 },
 "nbformat": 4,
 "nbformat_minor": 2
}
