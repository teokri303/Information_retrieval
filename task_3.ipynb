{
 "cells": [
  {
   "cell_type": "code",
   "execution_count": 96,
   "metadata": {},
   "outputs": [],
   "source": [
    "import pandas as pd\n",
    "import numpy as np\n",
    "import seaborn as sns\n",
    "import matplotlib.pyplot as plt\n",
    "from sklearn.cluster import KMeans\n",
    "from sklearn.preprocessing import StandardScaler\n",
    "import plotly.express as exp\n",
    "from sentence_transformers import SentenceTransformer\n",
    "from keras.datasets import mnist\n",
    "from sklearn.model_selection import train_test_split\n",
    "from keras.models import Sequential\n",
    "from keras.layers import Dense\n",
    "from keras.layers import Dropout\n",
    "\n",
    "data = pd.read_csv('Updated-Ratings.csv')\n",
    "books = pd.read_csv('BX-Books.csv')\n",
    "clust_1 = pd.read_csv('Clust_1.csv')\n",
    "clust_2 = pd.read_csv('Clust_2.csv')\n",
    "clust_3 = pd.read_csv('Clust_3.csv')\n",
    "\n",
    "zero_ratings = data[data['rating'] == 0]\n",
    "\n",
    "c1_ratings = pd.merge(clust_1, data, how='inner', on='uid')\n",
    "c2_ratings = pd.merge(clust_2, data, how='inner', on='uid')\n",
    "c3_ratings = pd.merge(clust_3, data, how='inner', on='uid')\n",
    "\n",
    "#print(len(c1_ratings))\n",
    "#print(len(c2_ratings))\n",
    "#print(len(c3_ratings))\n",
    "\n",
    "zero_1_clust = c1_ratings[c1_ratings['rating'] == 0]\n",
    "non_zero_1_clust = c1_ratings[c1_ratings['rating'] != 0]\n",
    "\n",
    "sum1_non_zero = pd.merge(non_zero_1_clust, books, how='inner', on='isbn')\n",
    "sum1_zero = pd.merge(zero_1_clust, books, how='inner', on='isbn')\n",
    "\n",
    "sums = sum1_non_zero.summary.values.tolist()\n",
    "zero_sums = sum1_zero.summary.values.tolist()\n",
    "\n",
    "\n"
   ]
  },
  {
   "cell_type": "code",
   "execution_count": 97,
   "metadata": {},
   "outputs": [],
   "source": [
    "#creating layers\n",
    "model = Sequential()\n",
    "model.add(Dense(384))\n",
    "model.add(Dropout(0.3))\n",
    "model.add(Dense(192, activation='relu'))\n",
    "model.add(Dropout(0.2))\n",
    "model.add(Dense(1, activation='relu'))\n",
    "\n",
    "\n",
    "\n",
    "model.compile(optimizer='Adam',\n",
    "              loss='binary_crossentropy',\n",
    "              metrics=['accuracy'])"
   ]
  },
  {
   "cell_type": "code",
   "execution_count": 98,
   "metadata": {},
   "outputs": [
    {
     "name": "stdout",
     "output_type": "stream",
     "text": [
      "6835\n",
      "2079\n"
     ]
    }
   ],
   "source": [
    "#makings vectors\n",
    "model_vect = SentenceTransformer('sentence-transformers/all-MiniLM-L6-v2')\n",
    "X_train = model_vect.encode(sums)\n",
    "print(len(X_train))\n",
    "\n",
    "y_train = sum1_non_zero.rating.values.tolist()\n",
    "\n",
    "model_vect = SentenceTransformer('sentence-transformers/all-MiniLM-L6-v2')\n",
    "X_test = model_vect.encode(zero_sums)\n",
    "print(len(X_test))\n",
    "\n"
   ]
  },
  {
   "cell_type": "code",
   "execution_count": 99,
   "metadata": {},
   "outputs": [],
   "source": [
    "X_train = np.array(X_train)\n",
    "y_train = np.array(y_train)\n",
    "X_test = np.array(X_test)\n"
   ]
  },
  {
   "cell_type": "code",
   "execution_count": 100,
   "metadata": {},
   "outputs": [
    {
     "name": "stdout",
     "output_type": "stream",
     "text": [
      "214/214 [==============================] - 2s 4ms/step - loss: -94.6580 - accuracy: 0.0023\n"
     ]
    },
    {
     "data": {
      "text/plain": [
       "<keras.callbacks.History at 0x7f804d63ba60>"
      ]
     },
     "execution_count": 100,
     "metadata": {},
     "output_type": "execute_result"
    }
   ],
   "source": [
    "\n",
    "model.fit(X_train, y_train)\n"
   ]
  },
  {
   "cell_type": "code",
   "execution_count": 101,
   "metadata": {},
   "outputs": [
    {
     "name": "stdout",
     "output_type": "stream",
     "text": [
      "65/65 [==============================] - 0s 1ms/step\n",
      "[[3.4751146]\n",
      " [3.160683 ]\n",
      " [3.160683 ]\n",
      " ...\n",
      " [4.35768  ]\n",
      " [3.862596 ]\n",
      " [2.5645428]]\n"
     ]
    }
   ],
   "source": [
    "y_pred = model.predict(X_test)\n",
    "print(y_pred)\n"
   ]
  },
  {
   "cell_type": "markdown",
   "metadata": {},
   "source": []
  },
  {
   "cell_type": "code",
   "execution_count": 102,
   "metadata": {},
   "outputs": [
    {
     "name": "stdout",
     "output_type": "stream",
     "text": [
      "1\n"
     ]
    }
   ],
   "source": [
    "print(len(y_pred[1]))"
   ]
  }
 ],
 "metadata": {
  "kernelspec": {
   "display_name": "Python 3",
   "language": "python",
   "name": "python3"
  },
  "language_info": {
   "codemirror_mode": {
    "name": "ipython",
    "version": 3
   },
   "file_extension": ".py",
   "mimetype": "text/x-python",
   "name": "python",
   "nbconvert_exporter": "python",
   "pygments_lexer": "ipython3",
   "version": "3.9.9"
  },
  "orig_nbformat": 4,
  "vscode": {
   "interpreter": {
    "hash": "aee8b7b246df8f9039afb4144a1f6fd8d2ca17a180786b69acc140d282b71a49"
   }
  }
 },
 "nbformat": 4,
 "nbformat_minor": 2
}
