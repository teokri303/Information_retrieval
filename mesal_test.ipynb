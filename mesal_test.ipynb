{
 "cells": [
  {
   "cell_type": "code",
   "execution_count": null,
   "metadata": {},
   "outputs": [],
   "source": [
    "import pandas as pd\n",
    "import numpy as np\n",
    "import seaborn as sns\n",
    "import matplotlib.pyplot as plt\n",
    "from sklearn.cluster import KMeans\n",
    "from sklearn.preprocessing import StandardScaler\n",
    "import plotly.express as exp\n"
   ]
  },
  {
   "cell_type": "code",
   "execution_count": null,
   "metadata": {},
   "outputs": [],
   "source": [
    "data = pd.read_csv('BX-Users.csv')\n",
    "ratings = pd.read_csv('BX-Book-Ratings.csv')\n"
   ]
  },
  {
   "cell_type": "code",
   "execution_count": null,
   "metadata": {},
   "outputs": [],
   "source": [
    "#---katharismos tou column location gia na meinei mono h xwra---\n",
    "data.location = data.location.apply(lambda x: x.split(', ')[-1])\n",
    "\n",
    "# clear people above 110 age\n",
    "data = data.query(\"age >= 10 and age <= 110\")\n",
    "\n",
    "#---katharismos twn countries kathws uphrxan mesa mi uparktes xwres.---\n",
    "unique_countries = data['location'].unique()\n",
    "#arxikos arithmos xwrwn\n",
    "print(\"Xwres prin to katharisma: \", len(unique_countries))\n",
    "\n",
    "location_freq = data.location.value_counts()\n",
    "invalid_countries = location_freq[location_freq < 15].index\n",
    "data = data[~data.location.isin(invalid_countries)]\n",
    "\n",
    "unique_countries = data['location'].unique()\n",
    "print(\"Xwres meta to katharisma: \", len(unique_countries))"
   ]
  },
  {
   "cell_type": "code",
   "execution_count": null,
   "metadata": {},
   "outputs": [],
   "source": [
    "#function gia na plottarei tis meses hlikies kathe xwras\n",
    "def makePlot(number): \n",
    "\n",
    "    for x in range(number):\n",
    "        country = unique_countries[x]\n",
    "        age18_25 = data[data['location'] == country]['age'][(data[data['location'] == country]['age'] <= 25) & (data[data['location'] == country]['age'] >= 18)]\n",
    "        age26_35 = data[data['location'] == country]['age'][(data[data['location'] == country]['age'] <= 35) & (data[data['location'] == country]['age'] >= 26)]\n",
    "        age36_45 = data[data['location'] == country]['age'][(data[data['location'] == country]['age'] <= 45) & (data[data['location'] == country]['age'] >= 36)]\n",
    "        age46_55 = data[data['location'] == country]['age'][(data[data['location'] == country]['age'] <= 55) & (data[data['location'] == country]['age'] >= 46)]\n",
    "        age55above = data[data['location'] == country]['age'][data[data['location'] == country]['age'] >= 56]\n",
    "\n",
    "        x = [\"18-25\",\"26-35\",\"36-45\",\"46-55\",\"55+\"]\n",
    "        y = [len(age18_25.values),len(age26_35.values),len(age36_45.values),len(age46_55.values),len(age55above.values)]\n",
    "\n",
    "        plt.figure(figsize=(15,6))\n",
    "        sns.barplot(x=x, y=y, palette=\"rocket\")\n",
    "        plt.title(country)\n",
    "        plt.xlabel(\"Age\")\n",
    "        plt.ylabel(\"COUNT OF PEOPLE\")\n",
    "        plt.show()  \n",
    "#makePlot(5)\n"
   ]
  },
  {
   "cell_type": "code",
   "execution_count": null,
   "metadata": {},
   "outputs": [],
   "source": [
    "#vazoume gia kathe xwra ena monadiko arithmo gia na perasei sto model\n",
    "for country in unique_countries:\n",
    "    #print(country, np.where(unique_countries == country)[0][0])\n",
    "    data['location'] = data['location'].replace(country, np.where(unique_countries == country)[0][0])\n",
    "\n",
    "#dropparoume tis Nan times gia na mporei na mpei sto kmean model\n",
    "data = data.dropna()\n"
   ]
  },
  {
   "cell_type": "code",
   "execution_count": null,
   "metadata": {},
   "outputs": [],
   "source": [
    "X = np.array(data.loc[:,['location', 'age']])\n",
    "\n",
    "\n",
    "kmeans = KMeans(init=\"random\",n_clusters=3,n_init=10,max_iter=300,random_state=42)\n",
    "\n",
    "model = kmeans.fit_predict(X)\n",
    "\n",
    "# to model einai ta labels gia to pou anikei o kathe user\n",
    "#print(len(model))\n",
    "\n",
    "\n",
    "plt.scatter(X[:,0], X[:,1])\n",
    "plt.scatter(kmeans.cluster_centers_[:, 0], \n",
    "            kmeans.cluster_centers_[:, 1], \n",
    "            s=20,     # Set centroid size\n",
    "            c='red')  # Set centroid color\n",
    "plt.show()\n",
    " \n",
    "\n",
    "# enallagh pali se xwres anti gia arithmous gia na proxwrisoume se diaxwrismo\n",
    "for country in unique_countries:\n",
    "    data['location'] = data['location'].replace(np.where(unique_countries == country)[0][0], country) \n",
    "\n",
    "\n",
    "data = data.reset_index(drop=True)\n",
    "\n",
    "#eisagoume neo column sta data me to se poio cluster anikei o kahte user\n",
    "data['cluster'] = model\n",
    "\n",
    "# edw ksexwrizoyme tous users me vasi to cluster pou tous anatehike\n",
    "# isws xreiastei reset index\n",
    "clust_1 = data[data['cluster'] == 0]\n",
    "clust_2 = data[data['cluster'] == 1]\n",
    "clust_3 = data[data['cluster'] == 2]\n",
    "\n",
    "#print(data.head)\n",
    "\n",
    "zero_ratings = ratings[ratings['rating'] == 0]\n",
    "zero_ratings = zero_ratings.reset_index(drop=True)\n",
    "#zero_ratings.head\n",
    "\n",
    "\n",
    "non_zero_ratings = ratings[ratings['rating'] != 0]\n",
    "non_zero_ratings = non_zero_ratings.reset_index(drop=True)\n"
   ]
  },
  {
   "cell_type": "code",
   "execution_count": null,
   "metadata": {},
   "outputs": [],
   "source": [
    "clust_1_users_ratings = pd.merge(clust_1, non_zero_ratings, how='inner', on='uid')\n",
    "clust_2_users_ratings = pd.merge(clust_2, non_zero_ratings, how='inner', on='uid')\n",
    "clust_3_users_ratings = pd.merge(clust_3, non_zero_ratings, how='inner', on='uid')\n",
    "\n",
    "clust_1_users_ratings.head()\n"
   ]
  },
  {
   "cell_type": "code",
   "execution_count": 69,
   "metadata": {},
   "outputs": [],
   "source": [
    "zero_ratingss = zero_ratings.iloc[:10]"
   ]
  },
  {
   "cell_type": "code",
   "execution_count": null,
   "metadata": {},
   "outputs": [],
   "source": [
    "books_rat_clust1 = np.empty((0, 2), int)\n",
    "books_rat_clust2 = np.empty((0, 2), int)\n",
    "books_rat_clust3 = np.empty((0, 2), int)\n",
    "\n",
    "\n",
    "\n",
    "for book in range(len(zero_ratings)):\n",
    "    \n",
    "    # etsi pairno me tin seira isbn apo ta zero\n",
    "    x = zero_ratings.iloc[book]['isbn']\n",
    "\n",
    "    # elegxei an yparxei to isbn sta non zero\n",
    "    if x in clust_1_users_ratings['isbn'].values and (x in books_rat_clust1) == False:\n",
    "        # poses fores uparxei auto to isbn sta non zero\n",
    "        #clust_1_users_ratings['isbn'].value_counts()[x]\n",
    "        \n",
    "        # edw vazo se ena neo dataframe oles tis vathmologies twn allwn users gia to biblio\n",
    "        ongoing_book_rating=clust_1_users_ratings[clust_1_users_ratings['isbn'] == x]\n",
    "        # vrisko tin mesi timi giauto to vivlio gia tous user pou to exoun vathmologisei\n",
    "        mean=ongoing_book_rating['rating'].mean()\n",
    "        # vazoume sto array to isbn kai dipla ton meso oro twn vathmologiwn\n",
    "        books_rat_clust1=np.append(books_rat_clust1, np.array([[x, mean]]), axis=0)\n",
    "\n",
    "    if x in clust_2_users_ratings['isbn'].values and (x in books_rat_clust2) == False:\n",
    "        \n",
    "        # edw vazo se ena neo dataframe oles tis vathmologies twn allwn users gia to biblio\n",
    "        ongoing_book_rating=clust_2_users_ratings[clust_2_users_ratings['isbn'] == x]\n",
    "        # vrisko tin mesi timi giauto to vivlio gia tous user pou to exoun vathmologisei\n",
    "        mean=ongoing_book_rating['rating'].mean()\n",
    "        # vazoume sto array to isbn kai dipla ton meso oro twn vathmologiwn\n",
    "        books_rat_clust2=np.append(books_rat_clust2, np.array([[x, mean]]), axis=0)\n",
    "\n",
    "    if x in clust_3_users_ratings['isbn'].values and (x in books_rat_clust3) == False:\n",
    "      \n",
    "        # edw vazo se ena neo dataframe oles tis vathmologies twn allwn users gia to biblio\n",
    "        ongoing_book_rating=clust_3_users_ratings[clust_3_users_ratings['isbn'] == x]\n",
    "        # vrisko tin mesi timi giauto to vivlio gia tous user pou to exoun vathmologisei\n",
    "        mean=ongoing_book_rating['rating'].mean()\n",
    "        # vazoume sto array to isbn kai dipla ton meso oro twn vathmologiwn\n",
    "        books_rat_clust3=np.append(books_rat_clust3, np.array([[x, mean]]), axis=0)        \n",
    "\n"
   ]
  },
  {
   "cell_type": "code",
   "execution_count": null,
   "metadata": {},
   "outputs": [],
   "source": [
    "print(len(clust_1_users_ratings))\n",
    "print(len(clust_2_users_ratings))\n",
    "print(len(clust_3_users_ratings))\n",
    "\n",
    "x = zero_ratings.iloc[3]['isbn']\n",
    "print((x in books_rat_clust3) == False)\n",
    "\n",
    "\n",
    "# KAPOS EPSAXNA NA VRO TA MONADIKA ISBNS KAI EBGAINAN POLLA\n",
    "# LOGIKA UPARXEI THEMA EKEI KAI PRIN TO TREKSO TIN EPOMENO FORA PREPEI AN TO DIORTHOSO KAPOS\n",
    "\n",
    "# PREPEI NA FTIAKSO PROTA NA TSEKAREI AN UPARXEI STIN TELIKH LISTA TWN MESO ORON TO VIVLIO KAI META NA TA VAZEI MESA\n",
    "\n",
    "#ΑΝΑΘΕΩΡΗΣΗ ΓΙΑ ΤΟ ΑΝ ΠΡΕΠΕΙ ΝΑ ΒΓΑΛΩ απο τα ratings ΤΟΥΣ user που δεν υπαρχουν στο user table για να μεινουν λιγοτεροι\n",
    "\n",
    "# πρεπει επισης να φτιαξω και λιγο το σφαλμα κατα το τσεκ αν υπαρχει πιο πανω βαζοντας μια μεταβλητη....αυατα"
   ]
  }
 ],
 "metadata": {
  "kernelspec": {
   "display_name": "Python 3.8.13 64-bit ('3.8.13')",
   "language": "python",
   "name": "python3"
  },
  "language_info": {
   "codemirror_mode": {
    "name": "ipython",
    "version": 3
   },
   "file_extension": ".py",
   "mimetype": "text/x-python",
   "name": "python",
   "nbconvert_exporter": "python",
   "pygments_lexer": "ipython3",
   "version": "3.8.13"
  },
  "orig_nbformat": 4,
  "vscode": {
   "interpreter": {
    "hash": "5b94d8208f7fcba43fb82e32c1b90d78cf93c2cbea91b5965f88f456d8456fd2"
   }
  }
 },
 "nbformat": 4,
 "nbformat_minor": 2
}
