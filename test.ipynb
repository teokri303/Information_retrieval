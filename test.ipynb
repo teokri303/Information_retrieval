{
 "cells": [
  {
   "cell_type": "code",
   "execution_count": 24,
   "metadata": {},
   "outputs": [
    {
     "data": {
      "text/html": [
       "<div>\n",
       "<style scoped>\n",
       "    .dataframe tbody tr th:only-of-type {\n",
       "        vertical-align: middle;\n",
       "    }\n",
       "\n",
       "    .dataframe tbody tr th {\n",
       "        vertical-align: top;\n",
       "    }\n",
       "\n",
       "    .dataframe thead th {\n",
       "        text-align: right;\n",
       "    }\n",
       "</style>\n",
       "<table border=\"1\" class=\"dataframe\">\n",
       "  <thead>\n",
       "    <tr style=\"text-align: right;\">\n",
       "      <th></th>\n",
       "      <th>uid</th>\n",
       "      <th>location</th>\n",
       "      <th>age</th>\n",
       "    </tr>\n",
       "  </thead>\n",
       "  <tbody>\n",
       "    <tr>\n",
       "      <th>0</th>\n",
       "      <td>1</td>\n",
       "      <td>usa</td>\n",
       "      <td>NaN</td>\n",
       "    </tr>\n",
       "    <tr>\n",
       "      <th>1</th>\n",
       "      <td>2</td>\n",
       "      <td>usa</td>\n",
       "      <td>18.0</td>\n",
       "    </tr>\n",
       "    <tr>\n",
       "      <th>2</th>\n",
       "      <td>3</td>\n",
       "      <td>russia</td>\n",
       "      <td>NaN</td>\n",
       "    </tr>\n",
       "    <tr>\n",
       "      <th>3</th>\n",
       "      <td>4</td>\n",
       "      <td>portugal</td>\n",
       "      <td>17.0</td>\n",
       "    </tr>\n",
       "    <tr>\n",
       "      <th>4</th>\n",
       "      <td>5</td>\n",
       "      <td>united kingdom</td>\n",
       "      <td>NaN</td>\n",
       "    </tr>\n",
       "  </tbody>\n",
       "</table>\n",
       "</div>"
      ],
      "text/plain": [
       "   uid         location   age\n",
       "0    1              usa   NaN\n",
       "1    2              usa  18.0\n",
       "2    3           russia   NaN\n",
       "3    4         portugal  17.0\n",
       "4    5   united kingdom   NaN"
      ]
     },
     "execution_count": 24,
     "metadata": {},
     "output_type": "execute_result"
    }
   ],
   "source": [
    "import pandas as pd\n",
    "import numpy as np\n",
    "import seaborn as sns\n",
    "import matplotlib.pyplot as plt\n",
    "from sklearn.cluster import KMeans\n",
    "from sklearn.preprocessing import StandardScaler\n",
    "from sklearn.datasets import make_blobs\n",
    "import plotly.express as exp\n",
    "\n",
    "data = pd.read_csv('BX-Users.csv')\n",
    "\n",
    "\n",
    "#---katharismos tou column location gia na meinei mono h xwra---\n",
    "for x in range(len(data)):\n",
    "    my_str = data.loc[x,\"location\"]\n",
    "    new_val= my_str[my_str.rfind(','):]\n",
    "    data.loc[x,\"location\"] = new_val[1:len(new_val)]\n",
    "    # clear people above 110 age\n",
    "    if data.loc[x,\"age\"] >110:\n",
    "        data.drop(x,axis=0,inplace=True)\n",
    "\n",
    "\n",
    "data.head()"
   ]
  },
  {
   "cell_type": "code",
   "execution_count": 25,
   "metadata": {},
   "outputs": [
    {
     "name": "stdout",
     "output_type": "stream",
     "text": [
      "Xwres prin to katharisma:  645\n"
     ]
    }
   ],
   "source": [
    "ages = data.age.value_counts()\n",
    "#print(countries)\n",
    "\n",
    "\n",
    "#---katharismos twn countries kathws uphrxan mesa mi uparktes xwres.---\n",
    "unique_countries = data['location'].unique()\n",
    "#arxikos arithmos xwrwn\n",
    "print(\"Xwres prin to katharisma: \", len(unique_countries))\n",
    "\n"
   ]
  },
  {
   "cell_type": "code",
   "execution_count": 26,
   "metadata": {},
   "outputs": [],
   "source": [
    "for country in unique_countries:  \n",
    "    if len(data[data['location'] == country]) < 15 :\n",
    "        #print(country, \"with entries \", len(data[data['location'] == country]), \"DROPPED\")\n",
    "        data.drop(data.loc[data['location'] == country].index, inplace = True) \n",
    "\n",
    "\n"
   ]
  },
  {
   "cell_type": "code",
   "execution_count": 27,
   "metadata": {},
   "outputs": [
    {
     "name": "stdout",
     "output_type": "stream",
     "text": [
      "Xwres meta to katharisma:  127\n"
     ]
    }
   ],
   "source": [
    "unique_countries = data['location'].unique()\n",
    "print(\"Xwres meta to katharisma: \", len(unique_countries))\n",
    "#print(unique_countries)\n",
    "\n",
    "data['location'] = data['location'].astype(str)\n",
    "\n",
    "#print(data.location.value_counts())\n",
    "\n",
    "#VRIKA POS MPORO NA EXV OLEW TIS HLIKIEW MONO GIA MIA XWRA TORA LOGIKA THA KANW CLUSTER ETSI MIA MIA\n",
    "\n",
    "#for country in unique_countries:\n",
    "#   print(len(data[data['location'] == country]['age'].values))\n",
    "#\n",
    "#  data[data['location'] == ' usa']['age']\n",
    "\n",
    "def makePlot(number): \n",
    "\n",
    "    for x in range(number):\n",
    "        country = unique_countries[x]\n",
    "        age18_25 = data[data['location'] == country]['age'][(data[data['location'] == country]['age'] <= 25) & (data[data['location'] == country]['age'] >= 18)]\n",
    "        age26_35 = data[data['location'] == country]['age'][(data[data['location'] == country]['age'] <= 35) & (data[data['location'] == country]['age'] >= 26)]\n",
    "        age36_45 = data[data['location'] == country]['age'][(data[data['location'] == country]['age'] <= 45) & (data[data['location'] == country]['age'] >= 36)]\n",
    "        age46_55 = data[data['location'] == country]['age'][(data[data['location'] == country]['age'] <= 55) & (data[data['location'] == country]['age'] >= 46)]\n",
    "        age55above = data[data['location'] == country]['age'][data[data['location'] == country]['age'] >= 56]\n",
    "\n",
    "        x = [\"18-25\",\"26-35\",\"36-45\",\"46-55\",\"55+\"]\n",
    "        y = [len(age18_25.values),len(age26_35.values),len(age36_45.values),len(age46_55.values),len(age55above.values)]\n",
    "\n",
    "        plt.figure(figsize=(15,6))\n",
    "        sns.barplot(x=x, y=y, palette=\"rocket\")\n",
    "        plt.title(country)\n",
    "        plt.xlabel(\"Age\")\n",
    "        plt.ylabel(\"COUNT OF PEOPLE\")\n",
    "        plt.show()  \n",
    "\n",
    "#makePlot(5)\n",
    "\n",
    "\n",
    "      \n",
    "\n"
   ]
  },
  {
   "cell_type": "code",
   "execution_count": 64,
   "metadata": {},
   "outputs": [
    {
     "name": "stdout",
     "output_type": "stream",
     "text": [
      "1         18.0\n",
      "5         61.0\n",
      "15        19.0\n",
      "19        55.0\n",
      "21        32.0\n",
      "          ... \n",
      "206419    70.0\n",
      "206422    26.0\n",
      "206425    28.0\n",
      "206427    62.0\n",
      "206433    45.0\n",
      "Name: age, Length: 56123, dtype: float64\n"
     ]
    },
    {
     "data": {
      "text/plain": [
       "array([[0., 0., 0., ..., 0., 0., 0.]])"
      ]
     },
     "execution_count": 64,
     "metadata": {},
     "output_type": "execute_result"
    }
   ],
   "source": [
    "#auto meta tha ginei gia oles tis xwres mia mia\n",
    "each_country = data.loc[data['location'] == ' usa']\n",
    "\n",
    "each_country = each_country.dropna()\n",
    "#each_country['age'].values.reshape(1,-1)\n",
    "\n",
    "print(each_country['age'])\n",
    "\n",
    "#edw ginetai kanonikopoisi\n",
    "scaler = StandardScaler()\n",
    "scaled_features = scaler.fit_transform([each_country['age']])\n",
    "\n",
    "scaled_features[:5]\n",
    "\n"
   ]
  },
  {
   "cell_type": "code",
   "execution_count": 67,
   "metadata": {},
   "outputs": [
    {
     "name": "stderr",
     "output_type": "stream",
     "text": [
      "/var/folders/gm/dk17bx292yz59cjk3jzxtcz40000gn/T/ipykernel_11750/2167897843.py:9: ConvergenceWarning: Number of distinct clusters (1) found smaller than n_clusters (3). Possibly due to duplicate points in X.\n",
      "  kmeans.fit(scaled_features.reshape(-1,1))\n"
     ]
    },
    {
     "data": {
      "text/plain": [
       "0.0"
      ]
     },
     "execution_count": 67,
     "metadata": {},
     "output_type": "execute_result"
    }
   ],
   "source": [
    "kmeans = KMeans(\n",
    "    init=\"random\",\n",
    "    n_clusters=3,\n",
    "    n_init=10,\n",
    "    max_iter=300,\n",
    "    random_state=42\n",
    ")\n",
    "\n",
    "kmeans.fit(scaled_features.reshape(-1,1))\n",
    "\n",
    "kmeans.inertia_\n"
   ]
  }
 ],
 "metadata": {
  "kernelspec": {
   "display_name": "Python 3.9.9 64-bit",
   "language": "python",
   "name": "python3"
  },
  "language_info": {
   "codemirror_mode": {
    "name": "ipython",
    "version": 3
   },
   "file_extension": ".py",
   "mimetype": "text/x-python",
   "name": "python",
   "nbconvert_exporter": "python",
   "pygments_lexer": "ipython3",
   "version": "3.9.9"
  },
  "orig_nbformat": 4,
  "vscode": {
   "interpreter": {
    "hash": "aee8b7b246df8f9039afb4144a1f6fd8d2ca17a180786b69acc140d282b71a49"
   }
  }
 },
 "nbformat": 4,
 "nbformat_minor": 2
}
